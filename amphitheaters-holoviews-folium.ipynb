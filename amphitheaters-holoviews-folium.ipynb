{
 "cells": [
  {
   "cell_type": "markdown",
   "metadata": {},
   "source": [
    "# Working with Visualizations and Maps\n",
    "Using Holoviews and Folium and a small dataset describing Roman Amphitheaters. For more info see https://github.com/sfsheath/roman-amphitheaters .\n",
    "\n",
    "This notebook creates three html files. See:\n",
    "\n",
    "* http://sfsheath.github.io/amphitheaters-holoviews-folium/holoview-bar-by-modcountry.html\n",
    "* http://sfsheath.github.io/amphitheaters-holoviews-folium/holoview-layout.html\n",
    "* http://sfsheath.github.io/amphitheaters-holoviews-folium/folium-by-romanregion.html\n",
    "\n",
    "Github doesn't display Holoviews or Folium output so I am posting this notebook with cells not run. Running the cells will display the html output inline. I probably could use nbviewer, but have chosen not to."
   ]
  },
  {
   "cell_type": "code",
   "execution_count": null,
   "metadata": {},
   "outputs": [],
   "source": [
    "import folium\n",
    "import pandas as pd\n",
    "import numpy as np\n",
    "import holoviews as hv\n",
    "hv.extension('bokeh')\n",
    "\n",
    "from bokeh.models import HoverTool\n",
    "from folium import FeatureGroup, LayerControl, Map, Marker\n",
    "\n",
    "print(folium.__version__)\n",
    "print(hv.__version__)\n",
    "print(pd.__version__)\n"
   ]
  },
  {
   "cell_type": "markdown",
   "metadata": {},
   "source": [
    "## Load Data"
   ]
  },
  {
   "cell_type": "code",
   "execution_count": null,
   "metadata": {},
   "outputs": [],
   "source": [
    "ramphs_df = pd.read_csv('http://sebastianheath.com/roman-amphitheaters/roman-amphitheaters.csv')"
   ]
  },
  {
   "cell_type": "markdown",
   "metadata": {},
   "source": [
    "## Holoviews"
   ]
  },
  {
   "cell_type": "markdown",
   "metadata": {},
   "source": [
    "### Single Bar Chart of Seating Capacity by Country"
   ]
  },
  {
   "cell_type": "code",
   "execution_count": null,
   "metadata": {},
   "outputs": [],
   "source": [
    "cap_hover = HoverTool(tooltips=[(\"capacity\", \"@capacity\")])\n"
   ]
  },
  {
   "cell_type": "code",
   "execution_count": null,
   "metadata": {},
   "outputs": [],
   "source": [
    "%%output filename=\"holoview-bar-by-modcountry\" fig=\"html\"\n",
    "%%opts Bars [height=600 width=400 xrotation=90 tools=[cap_hover]]\n",
    "# sum seating capacity by modern country .\n",
    "summed = ramphs_df.groupby(by = 'modcountry', as_index=False).sum()\\\n",
    "   .sort_values(by = 'capacity', ascending = False)\n",
    "\n",
    "r_bars = hv.Bars(summed[['modcountry','capacity']].query('capacity > 0'))\n",
    "\n",
    "r_bars"
   ]
  },
  {
   "cell_type": "markdown",
   "metadata": {},
   "source": [
    "## More 'Element' Types and Layouts"
   ]
  },
  {
   "cell_type": "code",
   "execution_count": null,
   "metadata": {
    "scrolled": true
   },
   "outputs": [],
   "source": [
    "r_table = hv.Table(ramphs_df[['label','modcountry']])"
   ]
  },
  {
   "cell_type": "code",
   "execution_count": null,
   "metadata": {},
   "outputs": [],
   "source": [
    "r_hist = hv.Histogram(np.histogram(ramphs_df['capacity'].dropna(), bins=11), kdims=['capacity'])"
   ]
  },
  {
   "cell_type": "code",
   "execution_count": null,
   "metadata": {},
   "outputs": [],
   "source": [
    "scatter_hover = HoverTool(tooltips=[(\"label\", \"@label\"),\n",
    "                            (\"region\",\"@romanregion\"),\n",
    "                            (\"major axis\",\"@extmajor\"),\n",
    "                            (\"minor axis\",\"@extminor\")])"
   ]
  },
  {
   "cell_type": "code",
   "execution_count": null,
   "metadata": {},
   "outputs": [],
   "source": [
    "%%opts Scatter [tools=[scatter_hover]] (size=5)\n",
    "\n",
    "r_scatter = hv.Scatter(ramphs_df, kdims='extmajor', vdims=['extminor','label','romanregion'])"
   ]
  },
  {
   "cell_type": "code",
   "execution_count": null,
   "metadata": {},
   "outputs": [],
   "source": [
    "%%opts BoxWhisker [xrotation=90]\n",
    "r_boxwhisker = hv.BoxWhisker(ramphs_df.query('modcountry in [\"France\",\"Italy\",\"Tunisia\",\"United Kingdom\"]'),\n",
    "                             kdims = 'modcountry',\n",
    "                             vdims = 'capacity')"
   ]
  },
  {
   "cell_type": "markdown",
   "metadata": {},
   "source": [
    "#### Simple Table, Scatter plot of Exterior Dimenions, Histogram of Capacities, and BoxPlot from Four Countries"
   ]
  },
  {
   "cell_type": "code",
   "execution_count": null,
   "metadata": {},
   "outputs": [],
   "source": [
    "%%output filename=\"holoview-layout\" fig=\"html\"\n",
    "\n",
    "(r_table + r_scatter + r_hist + r_boxwhisker).cols(2)"
   ]
  },
  {
   "cell_type": "markdown",
   "metadata": {},
   "source": [
    "## Interactive Map with Folium\n"
   ]
  },
  {
   "cell_type": "code",
   "execution_count": null,
   "metadata": {},
   "outputs": [],
   "source": [
    "m = Map(\n",
    "    location=[45.5,14],\n",
    "    zoom_start=4,\n",
    "    tiles='Stamen Watercolor'# what happens if you take this away?\n",
    ")\n",
    "\n",
    "template = \"Label: <b>{}</b><br/>Region: <b>{}</b><br/>Capacity: <b>{}</b>\"\n",
    "\n",
    "# make FeatureGroups for each country\n",
    "for c in ramphs_df.romanregion.sort_values().unique():\n",
    "    q = \"romanregion == '{}'\".format(c)\n",
    "    c_group = FeatureGroup(name = c)\n",
    "    for index,row in ramphs_df.query(q).iterrows():\n",
    "        x = row.longitude\n",
    "        y = row.latitude\n",
    "\n",
    "        capacity = 'n/a'\n",
    "        if row.capacity > 0:\n",
    "            capacity = int(row.capacity)\n",
    "            \n",
    "        folium.CircleMarker([y,x],radius= 2,\n",
    "                            fill_color='red',\n",
    "                            color = 'red',\n",
    "                            popup=template.format(row.label, row.romanregion, capacity)).add_to(c_group)\n",
    "\n",
    "        #print(p.label)\n",
    "    c_group.add_to(m)\n",
    "    \n",
    "    \n",
    "# add another tile layer\n",
    "folium.TileLayer('Stamen Terrain').add_to(m)\n",
    "\n",
    "\n",
    "# add layer control\n",
    "LayerControl().add_to(m)\n",
    "\n",
    "m.save('folium-by-romanregion.html')\n",
    "\n",
    "m\n",
    "\n",
    "# from IPython.display import IFrame\n",
    "# IFrame('ramphs_by_region.html', width=650, height=450)"
   ]
  }
 ],
 "metadata": {
  "kernelspec": {
   "display_name": "Python 3",
   "language": "python",
   "name": "python3"
  },
  "language_info": {
   "codemirror_mode": {
    "name": "ipython",
    "version": 3
   },
   "file_extension": ".py",
   "mimetype": "text/x-python",
   "name": "python",
   "nbconvert_exporter": "python",
   "pygments_lexer": "ipython3",
   "version": "3.6.4"
  }
 },
 "nbformat": 4,
 "nbformat_minor": 2
}
